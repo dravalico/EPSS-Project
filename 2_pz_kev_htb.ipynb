{
 "cells": [
  {
   "cell_type": "markdown",
   "id": "93ae1ad0-c4b7-4040-8767-99506c98f803",
   "metadata": {},
   "source": [
    "# Data loading"
   ]
  },
  {
   "cell_type": "code",
   "execution_count": 3,
   "id": "c96e405f-64a7-4f86-b8fb-bf5981523efa",
   "metadata": {},
   "outputs": [],
   "source": [
    "!pip install -q fastplot"
   ]
  },
  {
   "cell_type": "code",
   "execution_count": null,
   "id": "a7a72c8b-ccce-4b6f-a619-1ac34062c230",
   "metadata": {},
   "outputs": [],
   "source": []
  },
  {
   "cell_type": "markdown",
   "id": "5f91616a-1ea9-412e-8cf1-6e8b0fa52383",
   "metadata": {},
   "source": [
    "## Project Zero and CISA KEV"
   ]
  },
  {
   "cell_type": "code",
   "execution_count": null,
   "id": "72822055-89c3-4405-8d9e-7642585c9b33",
   "metadata": {},
   "outputs": [],
   "source": [
    "# Filter CVEs in PZ and KEV that reached T in 2014-2023 and in 2022/2023 and save the relative vendor, product and type\n",
    "def retrieve_cve_by_epss_above_threshold(df):\n",
    "    df = df.groupby('cve')['epss'].apply(lambda l: l.values.max())\n",
    "    return df.groupby('cve').filter(lambda v: (v > THRESHOLD).any()).index.values\n",
    "\n",
    "\n",
    "def filter_df_by_cve_list(df, cve_column_name, cve_list):\n",
    "    return df[df[cve_column_name].isin(cve_list)]\n",
    "\n",
    "\n",
    "df_pz_sheet_filtered = df_pz_sheet[['CVE', 'Vendor', 'Product', 'Type']].dropna()\n",
    "highest_cve_pz = retrieve_cve_by_epss_above_threshold(df_pz)\n",
    "df_pz_sheet_highest = filter_df_by_cve_list(df_pz_sheet_filtered, 'CVE', highest_cve_pz)\n",
    "\n",
    "df_kev_sheet_filtered = df_kev_sheet[['cveID', 'vendorProject', 'product', 'vulnerabilityName']]\n",
    "highest_cve_kev = retrieve_cve_by_epss_above_threshold(df_kev)\n",
    "df_kev_sheet_highest = filter_df_by_cve_list(df_kev_sheet_filtered, 'cveID', highest_cve_kev)"
   ]
  },
  {
   "cell_type": "markdown",
   "id": "0486e8c6-93ec-4523-97c2-201a2b939e3a",
   "metadata": {},
   "source": [
    "### Distribution of CVEs that exceed the threshold vs vendor, product, type of vulnerability for Project Zero"
   ]
  },
  {
   "cell_type": "code",
   "execution_count": null,
   "id": "5ea7815a-b2e0-4cdb-8a80-02449f41132e",
   "metadata": {},
   "outputs": [],
   "source": [
    "# Number of CVE of pz with EPSS > T per vendor\n",
    "vendors = list(df_pz_sheet_highest['Vendor'].unique())\n",
    "data = [(v, len(df_pz_sheet_highest[df_pz_sheet_highest['Vendor'] == v])) for v in vendors]\n",
    "fastplot.plot(data, None, mode='bars', xlabel='Vendor', ylabel='#CVE 0day with EPSS > T (>= 1 day)',\n",
    "              xticks_rotate=30, figsize=(8, 4), grid=True)"
   ]
  },
  {
   "cell_type": "code",
   "execution_count": null,
   "id": "9cb0f333-e045-4cfa-b635-ce82e0cd6149",
   "metadata": {},
   "outputs": [],
   "source": [
    "# Number of CVE of pz with EPSS > T per product\n",
    "products = list(df_pz_sheet_highest['Product'].unique())\n",
    "data = [(p[:10], len(df_pz_sheet_highest[df_pz_sheet_highest['Product'] == p])) for p in products]\n",
    "fastplot.plot(data, None, mode='bars', xlabel='Product affected', ylabel='#CVE 0day with EPSS > T (>= 1 day)',\n",
    "              xticks_rotate=30, figsize=(8, 4), grid=True)"
   ]
  },
  {
   "cell_type": "code",
   "execution_count": null,
   "id": "984ed666-1806-4d2c-85f6-ed2e23d62c16",
   "metadata": {},
   "outputs": [],
   "source": [
    "# Number of CVE of pz with EPSS > T per type of product\n",
    "types = list(df_pz_sheet_highest['Type'].unique())\n",
    "data = [(t[:10], len(df_pz_sheet_highest[df_pz_sheet_highest['Type'] == t])) for t in types]\n",
    "fastplot.plot(data, None, mode='bars', xlabel='Type of vulnerability',\n",
    "              ylabel='#CVE 0day with EPSS > T (>= 1 day)', figsize=(8, 4), grid=True)"
   ]
  },
  {
   "cell_type": "markdown",
   "id": "039fea01-5dff-4719-9386-a2e5f025f721",
   "metadata": {},
   "source": [
    "### Distribution of CVEs that exceed the threshold vs vendor, product for CISA KEV"
   ]
  },
  {
   "cell_type": "code",
   "execution_count": 2,
   "id": "15df333a-bb31-488e-b939-042172ae4409",
   "metadata": {},
   "outputs": [],
   "source": [
    "def group_values_with_less_frequency(tuples_list, keep_other=False):\n",
    "    sum_of_ones = 0\n",
    "    other_tuples = []\n",
    "    for string, num in tuples_list:\n",
    "        if num == 1:\n",
    "            sum_of_ones += 1\n",
    "        else:\n",
    "            other_tuples.append((string, num))\n",
    "    if sum_of_ones > 0 and keep_other == True:\n",
    "        other_tuples.append(('Other', sum_of_ones))\n",
    "    return other_tuples"
   ]
  },
  {
   "cell_type": "code",
   "execution_count": null,
   "id": "da8f191e-51ae-4c9b-848b-0a8e8ac7cbe8",
   "metadata": {},
   "outputs": [],
   "source": [
    "# Number of CVE of KEV with EPSS > T per vendor\n",
    "vendors = list(df_kev_sheet_highest['vendorProject'].unique())\n",
    "data = [(v, len(df_kev_sheet_highest[df_kev_sheet_highest['vendorProject'] == v])) for v in vendors]\n",
    "data = group_values_with_less_frequency(data)\n",
    "fastplot.plot(data, None, mode='bars', xlabel='Vendor', ylabel='#CVE KEV with EPSS > T (>= 1 day)',\n",
    "              xticks_rotate=90, figsize=(12, 6), grid=True)"
   ]
  },
  {
   "cell_type": "code",
   "execution_count": null,
   "id": "68730ffd-4783-43a4-9f76-e2cfb3e9deef",
   "metadata": {},
   "outputs": [],
   "source": [
    "# Number of CVE of KEV with EPSS > T per product\n",
    "products = list(df_kev_sheet_highest['product'].unique())\n",
    "data = [(p[:10], len(df_kev_sheet_highest[df_kev_sheet_highest['product'] == p])) for p in products]\n",
    "data = group_values_with_less_frequency(data)\n",
    "fastplot.plot(data, None, mode='bars', xlabel='Product', ylabel='#CVE KEV with EPSS > T (>= 1 day)',\n",
    "              xticks_rotate=90, figsize=(12, 6), grid=True)"
   ]
  },
  {
   "cell_type": "markdown",
   "id": "85690427-5450-4061-bb91-3dd5d64947cc",
   "metadata": {},
   "source": [
    "## hackthebox - Most popular CVEs from 2022"
   ]
  },
  {
   "cell_type": "code",
   "execution_count": null,
   "id": "45267244-b824-42e6-a375-3c957ff2ac88",
   "metadata": {},
   "outputs": [],
   "source": [
    "# Extract CVEs list from the website\n",
    "data = requests.get('https://www.hackthebox.com/blog/most-popular-cybersecurity-vulnerabilities-and-exploits-from-2022')\n",
    "soup = BeautifulSoup(data.text, 'html.parser')\n",
    "table_cells = soup.find_all('td')\n",
    "cve_hackthebox = []\n",
    "for cell in table_cells:\n",
    "    paragraphs = cell.find_all('p')\n",
    "    for paragraph in paragraphs:\n",
    "        links = paragraph.find_all('a')\n",
    "        for link in links:\n",
    "            cve_id = link.text\n",
    "            if 'cve' in cve_id:\n",
    "                cve_hackthebox.append(cve_id.upper())"
   ]
  },
  {
   "cell_type": "code",
   "execution_count": null,
   "id": "6a27d6a0-9c02-48b0-be4a-f4915df09278",
   "metadata": {},
   "outputs": [],
   "source": [
    "# How many of those are inside the other dfs?\n",
    "highest_cve_2223 = compute_highest_cve_list_2223(df_highest_epss)\n",
    "cve_hackthebox_highest_2223 = list(set(highest_cve_2223) & set(cve_hackthebox))\n",
    "cve_hackthebox_pz_2223 = list(set(highest_cve_pz) & set(cve_hackthebox))\n",
    "cve_hackthebox_kev_2223 = list(set(highest_cve_kev) & set(cve_hackthebox))\n",
    "print(f\"CVEs from hackthebox inside df_highest_epss_2223: {len(cve_hackthebox_highest_2223)}\")\n",
    "print(f\"CVEs from hackthebox inside df_pz: {len(cve_hackthebox_pz_2223)}\")\n",
    "print(f\"CVEs from hackthebox inside df_kev: {len(cve_hackthebox_kev_2223)}\")"
   ]
  }
 ],
 "metadata": {
  "kernelspec": {
   "display_name": "Python 3 (ipykernel)",
   "language": "python",
   "name": "python3"
  },
  "language_info": {
   "codemirror_mode": {
    "name": "ipython",
    "version": 3
   },
   "file_extension": ".py",
   "mimetype": "text/x-python",
   "name": "python",
   "nbconvert_exporter": "python",
   "pygments_lexer": "ipython3",
   "version": "3.9.13"
  }
 },
 "nbformat": 4,
 "nbformat_minor": 5
}
