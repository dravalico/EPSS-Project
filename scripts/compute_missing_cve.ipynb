{
 "cells": [
  {
   "cell_type": "code",
   "execution_count": 1,
   "id": "a4fd3ca6-37bc-4b5b-abaa-57bfabc89886",
   "metadata": {},
   "outputs": [],
   "source": [
    "import pandas as pd"
   ]
  },
  {
   "cell_type": "code",
   "execution_count": 2,
   "id": "65d4e64b-3438-434c-8c41-0b1d3a5cf13e",
   "metadata": {},
   "outputs": [],
   "source": [
    "path_cve_info = '../datasets/cve_info.csv'\n",
    "with open(path_cve_info, 'r') as f:\n",
    "    df_cve_info = pd.read_csv(f)\n",
    "df_cve_info['published'] = pd.to_datetime(df_cve_info['published'])"
   ]
  },
  {
   "cell_type": "code",
   "execution_count": 4,
   "id": "5329fca4-655d-40bc-9b05-fe5e5a2198dd",
   "metadata": {},
   "outputs": [],
   "source": [
    "df_cve_data = pd.read_pickle('../datasets/dataset.pkl')"
   ]
  },
  {
   "cell_type": "code",
   "execution_count": 5,
   "id": "7cdc4beb-036c-4eb2-9065-051edb0ccb58",
   "metadata": {},
   "outputs": [],
   "source": [
    "cve_info = set(df_cve_info['id'].unique())\n",
    "cve_data = set(df_cve_data['cve'].unique())"
   ]
  },
  {
   "cell_type": "code",
   "execution_count": 6,
   "id": "16d92ca8-da57-42d4-8880-0a9ec043c1a5",
   "metadata": {},
   "outputs": [
    {
     "name": "stdout",
     "output_type": "stream",
     "text": [
      "240886\n",
      "239138\n"
     ]
    }
   ],
   "source": [
    "print(len(cve_info))\n",
    "print(len(cve_data))"
   ]
  },
  {
   "cell_type": "code",
   "execution_count": 7,
   "id": "645ab895-8bdb-43ed-8fc2-32fc6e9577b5",
   "metadata": {},
   "outputs": [
    {
     "name": "stdout",
     "output_type": "stream",
     "text": [
      "1820\n"
     ]
    }
   ],
   "source": [
    "missing_cve = cve_info - cve_data\n",
    "print(len(missing_cve))"
   ]
  },
  {
   "cell_type": "code",
   "execution_count": 9,
   "id": "9c8e9557-5ccb-43c1-882a-bddaae1b0f05",
   "metadata": {},
   "outputs": [],
   "source": [
    "with open('cve2download.txt', 'a') as f:\n",
    "    for cve in missing_cve:\n",
    "        f.write(cve + '\\n')"
   ]
  },
  {
   "cell_type": "code",
   "execution_count": null,
   "id": "2d19c911-c30a-4729-b513-3c58a923e1dc",
   "metadata": {},
   "outputs": [],
   "source": []
  }
 ],
 "metadata": {
  "kernelspec": {
   "display_name": "Python 3 (ipykernel)",
   "language": "python",
   "name": "python3"
  },
  "language_info": {
   "codemirror_mode": {
    "name": "ipython",
    "version": 3
   },
   "file_extension": ".py",
   "mimetype": "text/x-python",
   "name": "python",
   "nbconvert_exporter": "python",
   "pygments_lexer": "ipython3",
   "version": "3.9.13"
  }
 },
 "nbformat": 4,
 "nbformat_minor": 5
}
