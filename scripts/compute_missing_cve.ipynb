{
 "cells": [
  {
   "cell_type": "code",
   "execution_count": 43,
   "id": "a4fd3ca6-37bc-4b5b-abaa-57bfabc89886",
   "metadata": {},
   "outputs": [],
   "source": [
    "import pandas as pd"
   ]
  },
  {
   "cell_type": "code",
   "execution_count": 44,
   "id": "65d4e64b-3438-434c-8c41-0b1d3a5cf13e",
   "metadata": {},
   "outputs": [],
   "source": [
    "with open('../datasets_new/cve_info.csv', 'r') as f:\n",
    "    df_cve = pd.read_csv(f)\n",
    "df_cve['published'] = pd.to_datetime(df_cve['published'])\n",
    "df_cve_first = pd.read_pickle('../datasets_new/dataset.pkl')\n",
    "cve = set(df_cve['id'].unique())\n",
    "cve_first = set(df_cve_first['cve'].unique())"
   ]
  },
  {
   "cell_type": "code",
   "execution_count": 48,
   "id": "645ab895-8bdb-43ed-8fc2-32fc6e9577b5",
   "metadata": {},
   "outputs": [
    {
     "name": "stdout",
     "output_type": "stream",
     "text": [
      "Missing from FIRST dataset wrt NVD: 1960\n",
      "Missing from NVD dataset wrt FIRST: 49\n"
     ]
    }
   ],
   "source": [
    "missing_first = cve - cve_first\n",
    "missing_nvd = cve_first - cve\n",
    "print(f\"Missing from FIRST dataset wrt NVD: {len(missing_first)}\")\n",
    "print(f\"Missing from NVD dataset wrt FIRST: {len(missing_nvd)}\")"
   ]
  },
  {
   "cell_type": "code",
   "execution_count": 60,
   "id": "9c8e9557-5ccb-43c1-882a-bddaae1b0f05",
   "metadata": {},
   "outputs": [],
   "source": [
    "with open('cve2download.txt', 'a') as f:\n",
    "    for cve in missing_nvd:\n",
    "        f.write(cve + '\\n')"
   ]
  },
  {
   "cell_type": "code",
   "execution_count": 58,
   "id": "2d19c911-c30a-4729-b513-3c58a923e1dc",
   "metadata": {},
   "outputs": [
    {
     "name": "stdout",
     "output_type": "stream",
     "text": [
      "Missing in FIRST dataset: ['CVE-2005-2759']\n",
      "Rejected: 1819\n",
      "Received: 140\n",
      "Total: 1959/1960\n"
     ]
    }
   ],
   "source": [
    "count_rejected = 0\n",
    "count_received = 0\n",
    "missing = []\n",
    "for cve in missing_first:\n",
    "    data = df_cve[df_cve['id'] == cve]['vulnStatus'].values\n",
    "    if data == 'Rejected':\n",
    "        count_rejected += 1\n",
    "    elif data == 'Received':\n",
    "        count_received += 1\n",
    "    else:\n",
    "        missing.append(cve)\n",
    "print(f\"Missing in FIRST dataset: {missing}\")\n",
    "print(f\"Rejected: {count_rejected}\")\n",
    "print(f\"Received: {count_received}\")\n",
    "print(f\"Total: {count_rejected + count_received}/{len(missing_first)}\")"
   ]
  },
  {
   "cell_type": "code",
   "execution_count": null,
   "id": "3f062453-935b-49dc-a150-e2ae5f8d2fbb",
   "metadata": {},
   "outputs": [],
   "source": []
  }
 ],
 "metadata": {
  "kernelspec": {
   "display_name": "Python 3 (ipykernel)",
   "language": "python",
   "name": "python3"
  },
  "language_info": {
   "codemirror_mode": {
    "name": "ipython",
    "version": 3
   },
   "file_extension": ".py",
   "mimetype": "text/x-python",
   "name": "python",
   "nbconvert_exporter": "python",
   "pygments_lexer": "ipython3",
   "version": "3.9.13"
  }
 },
 "nbformat": 4,
 "nbformat_minor": 5
}
