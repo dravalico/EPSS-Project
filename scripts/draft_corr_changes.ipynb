{
 "cells": [
  {
   "cell_type": "code",
   "execution_count": 1,
   "id": "ffffdf5e-4cee-44bb-b628-f7ef6988879b",
   "metadata": {},
   "outputs": [],
   "source": [
    "import pandas as pd\n",
    "import requests"
   ]
  },
  {
   "cell_type": "code",
   "execution_count": 2,
   "id": "79e7a0d3-38d4-44aa-a86b-862a478649f7",
   "metadata": {},
   "outputs": [],
   "source": [
    "with open('../datasets/epss_v3_highest.csv', 'r') as f:\n",
    "    df_highest_epss = pd.read_csv(f)\n",
    "df_highest_epss['date'] = pd.to_datetime(df_highest_epss['date'])"
   ]
  },
  {
   "cell_type": "code",
   "execution_count": 4,
   "id": "435ab7eb-4c0d-4476-9885-20658c34febb",
   "metadata": {},
   "outputs": [],
   "source": [
    "with open('../datasets/cve_info.csv', 'r') as f:\n",
    "    df_cve_info = pd.read_csv(f)\n",
    "df_cve_info['published'] = pd.to_datetime(df_cve_info['published'])"
   ]
  },
  {
   "cell_type": "code",
   "execution_count": 3,
   "id": "329552c1-6db2-4650-883e-c954a191ef08",
   "metadata": {},
   "outputs": [],
   "source": [
    "interesting_cve = [\n",
    "    'CVE-2022-22706',\n",
    "    'CVE-2022-27926',\n",
    "    'CVE-2023-21823',\n",
    "    'CVE-2023-22515',\n",
    "    'CVE-2022-22706',\n",
    "    'CVE-2022-27926',\n",
    "    'CVE-2022-24637',\n",
    "    'CVE-2022-1329'\n",
    "]"
   ]
  },
  {
   "cell_type": "code",
   "execution_count": 31,
   "id": "fe4e782f-29cb-49e1-bbf8-8a9a7f03182c",
   "metadata": {},
   "outputs": [
    {
     "name": "stdout",
     "output_type": "stream",
     "text": [
      "CVE-2022-22706 first CVSS: 2022-03-16\n",
      "CVE-2022-27926 first CVSS: 2022-04-29\n",
      "CVE-2023-22515 first CVSS: 2023-10-10\n",
      "CVE-2022-22706 first CVSS: 2022-03-16\n",
      "CVE-2022-27926 first CVSS: 2022-04-29\n",
      "CVE-2022-24637 first CVSS: 2022-03-28\n",
      "CVE-2022-1329 first CVSS: 2022-04-27\n"
     ]
    }
   ],
   "source": [
    "for cve in interesting_cve:\n",
    "    response = requests.get(f\"https://services.nvd.nist.gov/rest/json/cvehistory/2.0?cveId={cve}\")\n",
    "    if response.status_code == 200:\n",
    "        response_json = response.json()['cveChanges']\n",
    "        for change in response_json:\n",
    "            if change['change']['eventName'] == 'Initial Analysis':\n",
    "                details = change['change']['details']\n",
    "                for detail in details:\n",
    "                    if detail['action'] == 'Added' and 'CVSS' in detail['type']:\n",
    "                        print(f\"{cve} first CVSS: {str(change['change']['created']).split('T')[0]}\")\n",
    "                        break\n",
    "                break"
   ]
  },
  {
   "cell_type": "code",
   "execution_count": 33,
   "id": "5f851bb8-acae-408e-9437-bf29561beb91",
   "metadata": {},
   "outputs": [
    {
     "name": "stdout",
     "output_type": "stream",
     "text": [
      "CVE-2022-22706 first EPSS > 0.2: 2023-03-31\n",
      "CVE-2022-27926 first EPSS > 0.2: 2023-04-21\n",
      "CVE-2023-21823 first EPSS > 0.2: 2023-04-21\n",
      "CVE-2023-22515 first EPSS > 0.2: 2023-10-11\n",
      "CVE-2022-22706 first EPSS > 0.2: 2023-03-31\n",
      "CVE-2022-27926 first EPSS > 0.2: 2023-04-21\n",
      "CVE-2022-24637 first EPSS > 0.2: 2023-03-18\n",
      "CVE-2022-1329 first EPSS > 0.2: 2023-03-07\n"
     ]
    }
   ],
   "source": [
    "for cve in interesting_cve:\n",
    "    data = df_highest_epss[df_highest_epss['cve'] == cve]\n",
    "    print(f\"{cve} first EPSS > 0.2: {str(data[data['epss'] > 0.2]['date'].values[0]).split('T')[0]}\")"
   ]
  }
 ],
 "metadata": {
  "kernelspec": {
   "display_name": "Python 3 (ipykernel)",
   "language": "python",
   "name": "python3"
  },
  "language_info": {
   "codemirror_mode": {
    "name": "ipython",
    "version": 3
   },
   "file_extension": ".py",
   "mimetype": "text/x-python",
   "name": "python",
   "nbconvert_exporter": "python",
   "pygments_lexer": "ipython3",
   "version": "3.9.13"
  }
 },
 "nbformat": 4,
 "nbformat_minor": 5
}
