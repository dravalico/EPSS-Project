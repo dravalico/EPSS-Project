{
 "cells": [
  {
   "cell_type": "code",
   "execution_count": 1,
   "id": "e0fea84d-3b1d-4aa7-87dd-e5cdf002e79b",
   "metadata": {},
   "outputs": [],
   "source": [
    "import pandas as pd\n",
    "import seaborn as sns\n",
    "import matplotlib.pyplot as plt\n",
    "import numpy as np\n",
    "from matplotlib.colors import LogNorm"
   ]
  },
  {
   "cell_type": "markdown",
   "id": "2bef235e-250f-479d-b5bd-8c930d0cd5ad",
   "metadata": {},
   "source": [
    "# Functions to generate heatmaps"
   ]
  },
  {
   "cell_type": "code",
   "execution_count": 55,
   "id": "bd807e38-385f-4967-b59e-e74ceea35eca",
   "metadata": {},
   "outputs": [],
   "source": [
    "def heatmap_epss_initial_vs_max(data):\n",
    "    epss_day_0 = data.groupby('cve')['epss'].apply(lambda l: l.values[0]).round(1).astype(str)\n",
    "    max_epss_per_cve = data.groupby('cve')['epss'].max().round(1).astype(str)\n",
    "    heatmap_data = pd.DataFrame(index=[str(round(i, 1)) for i in np.arange(1.0, -0.1, -0.1)], columns=[str(round(i, 1)) for i in np.arange(0.0, 1.1, 0.1)])\n",
    "    indexes = data['cve'].unique()\n",
    "    for cve in indexes:\n",
    "        init, final = str(epss_day_0[cve]), str(max_epss_per_cve[cve])\n",
    "        count = 1 if pd.isna(heatmap_data.loc[final, init]) else heatmap_data.loc[final, init] + 1\n",
    "        heatmap_data.loc[final, init] = count\n",
    "    heatmap_data = heatmap_data.fillna(0)\n",
    "    plt.figure(figsize=(8, 5))\n",
    "    sns.heatmap(heatmap_data, annot=True, square=True, fmt='d', norm=LogNorm())\n",
    "    plt.xlabel('Initial EPSS')\n",
    "    plt.ylabel('Max EPSS')\n",
    "    plt.show()"
   ]
  },
  {
   "cell_type": "code",
   "execution_count": 61,
   "id": "4b71bbd1-3854-47c9-abc9-23f573aafc27",
   "metadata": {},
   "outputs": [],
   "source": [
    "def heatmap_epss_initial_vs_days_needed(data):\n",
    "    max_epss_per_cve = data.groupby('cve')['epss'].max()\n",
    "    \n",
    "    def get_days_before_maximum_epss(series):\n",
    "        indices_above_threshold = [i for i, v in enumerate(series.values) if v == max_epss_per_cve[series.name]]\n",
    "        return indices_above_threshold[0] if indices_above_threshold else np.nan\n",
    "\n",
    "    def compute_days_needed_to_reach_maximum(df):\n",
    "        return df.groupby('cve')['epss'].apply(get_days_before_maximum_epss).dropna()\n",
    "    \n",
    "    epss_day_0 = data.groupby('cve')['epss'].apply(lambda l: l.values[0]).round(1).astype(str)\n",
    "    days_needed = compute_days_needed_to_reach_maximum(data)\n",
    "    max_days = days_needed.max()\n",
    "    step_days = int(max_days / 11)\n",
    "    indexes = [str(i) for i in range(step_days, (step_days * 11) + step_days, step_days)]\n",
    "    indexes.reverse()\n",
    "    heatmap_data = pd.DataFrame(index=indexes, columns=[str(round(i, 1)) for i in np.arange(0.0, 1.1, 0.1)])\n",
    "    cve_indexes = data['cve'].unique()\n",
    "    for cve in cve_indexes:\n",
    "        init = str(epss_day_0[cve])\n",
    "        days = int((days_needed[cve] // step_days)) * step_days\n",
    "        if str(days) not in indexes:\n",
    "            days = int((days_needed[cve] // step_days) + 1) * step_days\n",
    "        days = str(days)\n",
    "        count = 1 if pd.isna(heatmap_data.loc[days, init]) else heatmap_data.loc[days, init] + 1\n",
    "        heatmap_data.loc[days, init] = count\n",
    "    heatmap_data = heatmap_data.fillna(0)\n",
    "    plt.figure(figsize=(8, 6))\n",
    "    sns.heatmap(heatmap_data, annot=True, square=True, fmt='d', norm=LogNorm())\n",
    "    plt.xlabel('Initial EPSS')\n",
    "    plt.ylabel('#days to reach max EPSS')\n",
    "    plt.show()"
   ]
  },
  {
   "cell_type": "markdown",
   "id": "d36b8dcc-7910-4cd6-a0d9-39ea940d7794",
   "metadata": {},
   "source": [
    "# Datasets"
   ]
  },
  {
   "cell_type": "code",
   "execution_count": null,
   "id": "4fbed878-8269-4c94-888a-be8c0eca8717",
   "metadata": {},
   "outputs": [],
   "source": [
    "df_dataset = pd.read_pickle('datasets/epss_v3.pkl')\n",
    "df_highest_epss = pd.read_pickle('datasets/epss_v3_highest.pkl')\n",
    "df_lowest_epss = pd.read_pickle('datasets/epss_v3_lowest.pkl')\n",
    "with open('dataset/cve_info.csv', 'r') as f:\n",
    "    df_cve_info = pd.read_csv(f)\n",
    "df_cve_info['published'] = pd.to_datetime(df_cve_info['published'])\n",
    "df_cve_info = df_cve_info.sort_values(by=['published'])"
   ]
  },
  {
   "cell_type": "code",
   "execution_count": null,
   "id": "ec12f274-e38f-479e-9c75-b45304ed21a0",
   "metadata": {},
   "outputs": [],
   "source": [
    "historical_cve = df_cve_info[df_cve_info['published'] < cut_date]['id'].values\n",
    "current_cve = df_cve_info[df_cve_info['published'] >= cut_date]['id'].values"
   ]
  },
  {
   "cell_type": "code",
   "execution_count": null,
   "id": "f3a1958e-3470-4e85-ae56-3d06899d91fb",
   "metadata": {},
   "outputs": [],
   "source": [
    "df_dataset_historical = df_dataset[df_dataset['cve'].isin(historical_cve)]\n",
    "df_highest_epss_historical = df_highest_epss[df_highest_epss['cve'].isin(historical_cve)]\n",
    "df_lowest_epss_historical = df_lowest_epss[df_lowest_epss['cve'].isin(historical_cve)]\n",
    "\n",
    "df_dataset_current = df_dataset[df_dataset['cve'].isin(current_cve)]\n",
    "df_highest_epss_current = df_highest_epss[df_highest_epss['cve'].isin(current_cve)]\n",
    "df_lowest_epss_current = df_lowest_epss[df_lowest_epss['cve'].isin(current_cve)]\n",
    "\n",
    "_, cve_pz = dataset_creation.download_dataset_and_extract_cve_pz()\n",
    "df_pz = df_dataset[df_dataset['cve'].isin(cve_pz)]\n",
    "df_pz_historical = df_dataset[df_dataset['cve'].isin(cve_pz) & df_dataset['cve'].isin(historical_cve)]\n",
    "df_pz_current = df_dataset[df_dataset['cve'].isin(cve_pz) & df_dataset['cve'].isin(current_cve)]\n",
    "\n",
    "_, cve_kev = dataset_creation.download_dataset_and_extract_cve_kev()\n",
    "df_kev = df_dataset[df_dataset['cve'].isin(cve_kev)]\n",
    "df_kev_historical = df_dataset[df_dataset['cve'].isin(cve_kev) & df_dataset['cve'].isin(historical_cve)]\n",
    "df_kev_current = df_dataset[df_dataset['cve'].isin(cve_kev) & df_dataset['cve'].isin(current_cve)]"
   ]
  }
 ],
 "metadata": {
  "kernelspec": {
   "display_name": "Python 3 (ipykernel)",
   "language": "python",
   "name": "python3"
  },
  "language_info": {
   "codemirror_mode": {
    "name": "ipython",
    "version": 3
   },
   "file_extension": ".py",
   "mimetype": "text/x-python",
   "name": "python",
   "nbconvert_exporter": "python",
   "pygments_lexer": "ipython3",
   "version": "3.9.13"
  }
 },
 "nbformat": 4,
 "nbformat_minor": 5
}
