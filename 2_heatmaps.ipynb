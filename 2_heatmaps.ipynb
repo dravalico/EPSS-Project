{
 "cells": [
  {
   "cell_type": "code",
   "execution_count": 3,
   "id": "e0fea84d-3b1d-4aa7-87dd-e5cdf002e79b",
   "metadata": {},
   "outputs": [],
   "source": [
    "import pandas as pd"
   ]
  },
  {
   "cell_type": "code",
   "execution_count": 5,
   "id": "f6471335-798a-48f1-9cf7-917d6ce606a9",
   "metadata": {},
   "outputs": [],
   "source": [
    "unpickled_df = pd.read_pickle(\"./datasets_new/dataset.pkl\")  "
   ]
  },
  {
   "cell_type": "code",
   "execution_count": 7,
   "id": "bd807e38-385f-4967-b59e-e74ceea35eca",
   "metadata": {},
   "outputs": [
    {
     "name": "stdout",
     "output_type": "stream",
     "text": [
      "<class 'pandas.core.frame.DataFrame'>\n",
      "Int64Index: 170554590 entries, 4346592 to 156191136\n",
      "Data columns (total 4 columns):\n",
      " #   Column      Dtype         \n",
      "---  ------      -----         \n",
      " 0   cve         object        \n",
      " 1   epss        float64       \n",
      " 2   date        datetime64[ns]\n",
      " 3   percentile  float64       \n",
      "dtypes: datetime64[ns](1), float64(2), object(1)\n",
      "memory usage: 6.4+ GB\n"
     ]
    }
   ],
   "source": [
    "unpickled_df.info()"
   ]
  },
  {
   "cell_type": "code",
   "execution_count": null,
   "id": "9d504900-3529-4582-8b3e-b569e2a5d061",
   "metadata": {},
   "outputs": [],
   "source": []
  }
 ],
 "metadata": {
  "kernelspec": {
   "display_name": "Python 3 (ipykernel)",
   "language": "python",
   "name": "python3"
  },
  "language_info": {
   "codemirror_mode": {
    "name": "ipython",
    "version": 3
   },
   "file_extension": ".py",
   "mimetype": "text/x-python",
   "name": "python",
   "nbconvert_exporter": "python",
   "pygments_lexer": "ipython3",
   "version": "3.9.13"
  }
 },
 "nbformat": 4,
 "nbformat_minor": 5
}
