{
 "cells": [
  {
   "cell_type": "code",
   "execution_count": 1,
   "id": "bcc38110-ed18-4e40-af65-a2a30ba4719d",
   "metadata": {},
   "outputs": [],
   "source": [
    "!pip install -q fastplot\n",
    "!pip install -q xgboost"
   ]
  },
  {
   "cell_type": "code",
   "execution_count": 2,
   "id": "f5768c4f-df6c-4524-b86c-8f894dcb157e",
   "metadata": {},
   "outputs": [],
   "source": [
    "import pandas as pd\n",
    "import fastplot\n",
    "%matplotlib inline\n",
    "import numpy as np\n",
    "from datetime import timedelta, datetime\n",
    "import matplotlib.pyplot as plt\n",
    "\n",
    "from sklearn.model_selection import train_test_split\n",
    "from sklearn.ensemble import RandomForestClassifier\n",
    "import xgboost as xgb\n",
    "\n",
    "import seaborn as sns\n",
    "from matplotlib.colors import LogNorm\n",
    "from sklearn.metrics import confusion_matrix, accuracy_score, precision_score, recall_score, f1_score, roc_auc_score"
   ]
  },
  {
   "cell_type": "markdown",
   "id": "08b1ec9d-b8b9-4891-b5c4-97997bd56ad5",
   "metadata": {},
   "source": [
    "## Dataset"
   ]
  },
  {
   "cell_type": "code",
   "execution_count": 130,
   "id": "7d5863a3-10dd-4eb1-b1be-271cbfabe791",
   "metadata": {},
   "outputs": [],
   "source": [
    "THRESHOLD = 0.7"
   ]
  },
  {
   "cell_type": "markdown",
   "id": "1a2ef3e0-10b8-4032-a0a4-368ae2813529",
   "metadata": {},
   "source": [
    "### Loading"
   ]
  },
  {
   "cell_type": "code",
   "execution_count": 3,
   "id": "64c5454b-1df7-4533-8fca-8bbe36f7ccf1",
   "metadata": {},
   "outputs": [],
   "source": [
    "df_nvd_v3 = pd.read_pickle('datasets/epss_v3.pkl')\n",
    "df_nvd_v3_highest = pd.read_pickle('datasets/epss_v3_highest.pkl')\n",
    "with open('datasets/cve_info.csv', 'r') as f:\n",
    "    df_cve_info = pd.read_csv(f)\n",
    "df_cve_info['published'] = pd.to_datetime(df_cve_info['published'])\n",
    "current_cve = df_cve_info[df_cve_info['published'] >= '2023-03-07']['id'].values\n",
    "df_nvd_v3_c = df_nvd_v3[df_nvd_v3['cve'].isin(current_cve)]"
   ]
  },
  {
   "cell_type": "markdown",
   "id": "676e6e51-b417-46ff-992c-55abd495c049",
   "metadata": {},
   "source": [
    "### Filter 60 days and discard already high CVEs"
   ]
  },
  {
   "cell_type": "code",
   "execution_count": 162,
   "id": "ae51880a-0556-475a-9200-c74d64599234",
   "metadata": {},
   "outputs": [],
   "source": [
    "def truncate_timeseries_before_delta_days(df_cve):\n",
    "    df = df_cve.reset_index(drop=True)\n",
    "    cve = df['cve'].unique()[0]\n",
    "    index_threshold = df[df['epss'] > THRESHOLD].index.min()\n",
    "    index_threshold_delta_days = max(0, index_threshold - delta_days)\n",
    "    return df.iloc[:index_threshold_delta_days + 1]\n",
    "\n",
    "\n",
    "highest_current_cve = set(df_nvd_v3_c[df_nvd_v3_c['cve'].isin(df_nvd_v3_highest['cve'].unique())]['cve'].values)\n",
    "df_interval = df_nvd_v3_c[~df_nvd_v3_c['cve'].isin(highest_current_cve)]\n",
    "df_highest_current_cve = df_nvd_v3_c[df_nvd_v3_c['cve'].isin(highest_current_cve)]\n",
    "delta_days = 7\n",
    "dfs = list()\n",
    "for cve in highest_current_cve:\n",
    "    dfs.append(truncate_timeseries_before_delta_days(df_highest_current_cve[df_highest_current_cve['cve'] == cve]))\n",
    "df_temp = pd.concat(dfs, ignore_index=True)\n",
    "df_interval = pd.concat([df_interval, df_temp], ignore_index=True)"
   ]
  },
  {
   "cell_type": "markdown",
   "id": "78f4cc09-968f-4e85-802a-35bc9e54fa85",
   "metadata": {},
   "source": [
    "### Remove 'rejected' CVEs"
   ]
  },
  {
   "cell_type": "code",
   "execution_count": 164,
   "id": "10588918-7073-4435-929c-75d5c3a147de",
   "metadata": {},
   "outputs": [],
   "source": [
    "rejected_cve = df_cve_info[df_cve_info['vulnStatus'] == 'Rejected']['id'].values\n",
    "df_interval = df_interval[~df_interval['cve'].isin(rejected_cve)]"
   ]
  },
  {
   "cell_type": "markdown",
   "id": "c1a00e16-46c8-4ca3-8e78-c41037d7f821",
   "metadata": {},
   "source": [
    "## Features"
   ]
  },
  {
   "cell_type": "code",
   "execution_count": 269,
   "id": "a2f6e38f-b799-49e3-a740-cee5e04aba05",
   "metadata": {},
   "outputs": [],
   "source": [
    "features_columns = ['cve',\n",
    "                    '#days_grow', \n",
    "                    '#days_drop', \n",
    "                    'epss_grow_sum', \n",
    "                    'epss_drop_sum',  \n",
    "                    'std_dev',\n",
    "                    'max_delta_epss',\n",
    "                    '#delta_increments']\n",
    "df_features = pd.DataFrame(columns=features_columns)\n",
    "df_features['cve'] = df_interval['cve'].unique()"
   ]
  },
  {
   "cell_type": "markdown",
   "id": "d789d47d-e24c-4c02-a4e2-810acba3834f",
   "metadata": {
    "tags": []
   },
   "source": [
    "### Number of days with delta-EPSS >(<) 0 and relative cumulative EPSS"
   ]
  },
  {
   "cell_type": "code",
   "execution_count": 166,
   "id": "1b7edb32-6067-43a2-8951-beb9bf72499f",
   "metadata": {
    "tags": []
   },
   "outputs": [],
   "source": [
    "def compute_consecutive_days_feature(df):\n",
    "    delta_up = 0\n",
    "    delta_down = 0\n",
    "    days_up = 0\n",
    "    days_down = 0\n",
    "    sorted_dates = sorted(df['date'].unique())\n",
    "    for date, epss in zip(sorted_dates[1:], df['epss'].iloc[1:]):\n",
    "        try:\n",
    "            prev_epss = float(df.loc[df['date'] == date - pd.Timedelta(days=1), 'epss'].values[0])\n",
    "            if epss > prev_epss:\n",
    "                days_up += 1\n",
    "                delta_up += float((epss - prev_epss))\n",
    "            elif epss < prev_epss:\n",
    "                days_down += 1\n",
    "                delta_down += float((epss - prev_epss))\n",
    "            prev_epss = epss\n",
    "        except:\n",
    "            break\n",
    "    cve = df['cve'].unique()[0]\n",
    "    df_features.loc[df_features['cve'] == cve, features_columns[1]] = days_up\n",
    "    df_features.loc[df_features['cve'] == cve, features_columns[2]] = days_down\n",
    "    df_features.loc[df_features['cve'] == cve, features_columns[3]] = round(delta_up, 3)\n",
    "    df_features.loc[df_features['cve'] == cve, features_columns[4]] = round(delta_down, 3)"
   ]
  },
  {
   "cell_type": "markdown",
   "id": "99ae2ee0-f7df-4977-b8ef-0d7625936284",
   "metadata": {},
   "source": [
    "### Standard deviation"
   ]
  },
  {
   "cell_type": "code",
   "execution_count": 169,
   "id": "9021c36f-e8e5-42fa-a370-1f324b8953ec",
   "metadata": {},
   "outputs": [],
   "source": [
    "def compute_standard_deviation(df):\n",
    "    cve = df['cve'].unique()[0]\n",
    "    std_dev = df['epss'].std()\n",
    "    if np.isnan(std_dev):\n",
    "        std_dev = 0\n",
    "    df_features.loc[df_features['cve'] == cve, features_columns[5]] = std_dev"
   ]
  },
  {
   "cell_type": "markdown",
   "id": "f38e7913-480c-4303-891e-776390f0b3b3",
   "metadata": {},
   "source": [
    "### Maximum delta EPSS"
   ]
  },
  {
   "cell_type": "code",
   "execution_count": 170,
   "id": "5930cb76-5de5-4a84-bbdb-34b508e020bb",
   "metadata": {},
   "outputs": [],
   "source": [
    "def compute_max_delta_epss(df):\n",
    "    cve = df['cve'].unique()[0]\n",
    "    max_peak = df.loc[df['epss'].diff() > 0].max()\n",
    "    if np.isnan(max_peak['epss']):\n",
    "        df_features.loc[df_features['cve'] == cve, features_columns[8]] = 0\n",
    "        return\n",
    "    date_before_max = max_peak['date'] - pd.Timedelta(days=1)\n",
    "    try:\n",
    "        epss_before_max = df[df['date'] == date_before_max]['epss'].values[0]\n",
    "    except:\n",
    "        epss_before_max = max_peak['epss']\n",
    "    df_features.loc[df_features['cve'] == cve, features_columns[6]] = max_peak['epss'] - epss_before_max"
   ]
  },
  {
   "cell_type": "markdown",
   "id": "25aa5883-84a0-47d1-bbb7-c70adde78b9d",
   "metadata": {},
   "source": [
    "### Number of delta-increment in EPSS"
   ]
  },
  {
   "cell_type": "code",
   "execution_count": 172,
   "id": "35345670-da1b-4428-92b3-a41fe924bccb",
   "metadata": {},
   "outputs": [],
   "source": [
    "delta = 0.02\n",
    "\n",
    "\n",
    "def count_increment_of_delta(df):\n",
    "    counter = 0\n",
    "    sorted_dates = sorted(df['date'].unique())\n",
    "    for date, epss in zip(sorted_dates[1:], df['epss'].iloc[1:]):\n",
    "        try:\n",
    "            prev_epss = float(df.loc[df['date'] == date - pd.Timedelta(days=1), 'epss'].values[0])\n",
    "            if (epss - prev_epss) >= delta:\n",
    "                counter += 1\n",
    "        except:\n",
    "            break\n",
    "    cve = df['cve'].unique()[0]\n",
    "    df_features.loc[df_features['cve'] == cve, features_columns[7]] = counter"
   ]
  },
  {
   "cell_type": "markdown",
   "id": "c7f1cfdd-c220-4569-bd30-b12bd950793c",
   "metadata": {},
   "source": [
    "## Model"
   ]
  },
  {
   "cell_type": "markdown",
   "id": "f2c95696-2ece-4675-87c7-5e1363f4dd13",
   "metadata": {},
   "source": [
    "### Features creation"
   ]
  },
  {
   "cell_type": "code",
   "execution_count": null,
   "id": "5146da9f-96cf-4668-9820-922124b7c1c3",
   "metadata": {},
   "outputs": [],
   "source": [
    "df_interval.groupby('cve').apply(compute_consecutive_days_feature)\n",
    "df_interval.groupby('cve').apply(compute_standard_deviation)\n",
    "df_interval.groupby('cve').apply(compute_max_delta_epss)\n",
    "df_interval.groupby('cve').apply(count_increment_of_delta)"
   ]
  },
  {
   "cell_type": "code",
   "execution_count": null,
   "id": "25086d4b-f960-42e8-8b04-1e9ad62dadd7",
   "metadata": {},
   "outputs": [],
   "source": [
    "df_features['has_reached_threshold'] = df_interval.groupby('cve').apply(lambda e: True if e.name in highest_current_cve else False).values\n",
    "cols_to_convert = features_columns[1:]\n",
    "df_features[cols_to_convert] = df_features[cols_to_convert].apply(pd.to_numeric, errors='coerce')"
   ]
  },
  {
   "cell_type": "markdown",
   "id": "c9eabe2c-aaec-4409-a19d-4041e572fb2b",
   "metadata": {},
   "source": [
    "### Training and results"
   ]
  },
  {
   "cell_type": "code",
   "execution_count": null,
   "id": "0ad6cac1-1116-491e-aec2-34c239dcf222",
   "metadata": {},
   "outputs": [],
   "source": [
    "def print_results(model, predictions):\n",
    "    n_decimal = 4\n",
    "    print('Feature importances')\n",
    "    importance = model.feature_importances_\n",
    "    for i in range(1, len(features_columns)):\n",
    "        print(f\"{features_columns[i].ljust(20)} {str(round(importance[i - 1], n_decimal)).rjust(10)}\")\n",
    "    \n",
    "    y_scores = model.predict_proba(X_test)[:, 1]\n",
    "    print()\n",
    "    print(f\"{'Accuracy'.ljust(20)} {str(round(accuracy_score(y_test, predictions), n_decimal)).rjust(10)}\")\n",
    "    print(f\"{'Precision'.ljust(20)} {str(round(precision_score(y_test, predictions), n_decimal)).rjust(10)}\")\n",
    "    print(f\"{'Recall'.ljust(20)} {str(round(recall_score(y_test, predictions), n_decimal)).rjust(10)}\")\n",
    "    print(f\"{'F1-score'.ljust(20)} {str(round(f1_score(y_test, predictions), n_decimal)).rjust(10)}\")\n",
    "    print(f\"{'AUC-ROC'.ljust(20)} {str(round(roc_auc_score(y_test, predictions), n_decimal)).rjust(10)}\")\n",
    "    print()\n",
    "\n",
    "    conf_matrix = confusion_matrix(y_test, predictions)\n",
    "    plt.figure(figsize=(5, 3))\n",
    "    sns.heatmap(conf_matrix, annot=True, square=True, cmap='rocket_r', norm=LogNorm(), fmt='d', xticklabels=model.classes_, yticklabels=model.classes_)\n",
    "    plt.xlabel('Predicted Labels')\n",
    "    plt.ylabel('True Labels')\n",
    "    plt.title(model.__class__.__name__)\n",
    "    plt.show()"
   ]
  },
  {
   "cell_type": "code",
   "execution_count": null,
   "id": "3447214a-78e4-4474-a8f1-d811506f2dbb",
   "metadata": {},
   "outputs": [],
   "source": [
    "X = df_features.drop(['has_reached_threshold', 'cve'], axis=1)\n",
    "y = df_features['has_reached_threshold']\n",
    "rs = 42\n",
    "X_train, X_test, y_train, y_test = train_test_split(X, y, test_size=0.2, random_state=rs)"
   ]
  },
  {
   "cell_type": "code",
   "execution_count": null,
   "id": "8f32b1e9-f766-4c9c-bc8b-cc55614a2b9e",
   "metadata": {},
   "outputs": [],
   "source": [
    "model_rf = RandomForestClassifier(random_state=rs, class_weight='balanced')\n",
    "model_rf.fit(X_train, y_train)\n",
    "predictions_rf = model_rf.predict(X_test)\n",
    "print_results(model_rf, predictions_rf)"
   ]
  },
  {
   "cell_type": "markdown",
   "id": "03da7fe5-ee96-47c1-81f7-06c9174dd9cf",
   "metadata": {
    "tags": []
   },
   "source": [
    "## Features distribution"
   ]
  },
  {
   "cell_type": "code",
   "execution_count": null,
   "id": "c4134294-e06a-4bd8-abc0-9045aa6e2292",
   "metadata": {},
   "outputs": [],
   "source": [
    "df_features[~df_features['cve'].isin(highest_cves)].describe()"
   ]
  },
  {
   "cell_type": "code",
   "execution_count": null,
   "id": "2943cdb3-bcdd-49d3-aef5-57a97117f38d",
   "metadata": {},
   "outputs": [],
   "source": [
    "df_features[df_features['cve'].isin(highest_cves)].describe()"
   ]
  },
  {
   "cell_type": "code",
   "execution_count": null,
   "id": "c915f956-cfb0-4e70-8caf-c713f8770f6a",
   "metadata": {},
   "outputs": [],
   "source": [
    "fastplot.plot(df_features[features_columns[1]].values, None, mode='CDF', grid=True, \n",
    "              xlabel=features_columns[1], figsize=(6, 3))"
   ]
  },
  {
   "cell_type": "code",
   "execution_count": null,
   "id": "165ded2a-78f4-4b79-a3d4-7be8d2fbb184",
   "metadata": {},
   "outputs": [],
   "source": [
    "fastplot.plot(df_features[features_columns[2]].values, None, mode='CDF', grid=True, \n",
    "              xlabel=features_columns[2], figsize=(6, 3))"
   ]
  },
  {
   "cell_type": "code",
   "execution_count": null,
   "id": "0f19cb7c-ae37-48cc-b257-ed7fd888e3ec",
   "metadata": {},
   "outputs": [],
   "source": [
    "fastplot.plot(df_features[features_columns[3]].values, None, mode='CDF', grid=True, \n",
    "              xlabel=features_columns[3], figsize=(6, 3), ylim=(0.9,1.0))"
   ]
  },
  {
   "cell_type": "code",
   "execution_count": null,
   "id": "1a4110dd-2541-4c8e-a3c7-b8b74a42e05f",
   "metadata": {},
   "outputs": [],
   "source": [
    "fastplot.plot(df_features[features_columns[4]].values, None, mode='CDF', grid=True, \n",
    "              xlabel=features_columns[4], figsize=(6, 3), ylim=(0.0, 0.01))"
   ]
  },
  {
   "cell_type": "code",
   "execution_count": null,
   "id": "7913dd91-b3c2-4d62-9b5b-e4682816a3c2",
   "metadata": {},
   "outputs": [],
   "source": [
    "fastplot.plot(df_features[features_columns[5]].values, None, mode='CDF', grid=True, \n",
    "              xlabel=features_columns[5], figsize=(6, 3), ylim=(0.9, 1.0))"
   ]
  },
  {
   "cell_type": "code",
   "execution_count": null,
   "id": "16bd4eab-3112-4932-b684-a6700eb4488b",
   "metadata": {},
   "outputs": [],
   "source": [
    "fastplot.plot(df_features[features_columns[6]].values, None, mode='CDF', grid=True, \n",
    "              xlabel=features_columns[6], figsize=(6, 3), ylim=(0.9, 1.0))"
   ]
  },
  {
   "cell_type": "code",
   "execution_count": null,
   "id": "b446fb63-c574-47a0-b348-7c5066a5b549",
   "metadata": {},
   "outputs": [],
   "source": [
    "fastplot.plot(df_features[features_columns[7]].values, None, mode='CDF', grid=True, \n",
    "              xlabel=features_columns[7], figsize=(6, 3), ylim=(0.98, 1.0))"
   ]
  },
  {
   "cell_type": "code",
   "execution_count": null,
   "id": "438d356e-f4ee-4512-af55-671bbc53b931",
   "metadata": {},
   "outputs": [],
   "source": []
  }
 ],
 "metadata": {
  "kernelspec": {
   "display_name": "Python 3 (ipykernel)",
   "language": "python",
   "name": "python3"
  },
  "language_info": {
   "codemirror_mode": {
    "name": "ipython",
    "version": 3
   },
   "file_extension": ".py",
   "mimetype": "text/x-python",
   "name": "python",
   "nbconvert_exporter": "python",
   "pygments_lexer": "ipython3",
   "version": "3.9.13"
  }
 },
 "nbformat": 4,
 "nbformat_minor": 5
}
