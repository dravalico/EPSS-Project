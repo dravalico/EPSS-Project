{
 "cells": [
  {
   "cell_type": "code",
   "execution_count": 31,
   "id": "a4fd3ca6-37bc-4b5b-abaa-57bfabc89886",
   "metadata": {},
   "outputs": [],
   "source": [
    "import pandas as pd"
   ]
  },
  {
   "cell_type": "code",
   "execution_count": 32,
   "id": "65d4e64b-3438-434c-8c41-0b1d3a5cf13e",
   "metadata": {},
   "outputs": [],
   "source": [
    "with open('../datasets/cve_info.csv', 'r') as f:\n",
    "    df_cve_nvd = pd.read_csv(f)\n",
    "df_cve_nvd['published'] = pd.to_datetime(df_cve_nvd['published'])\n",
    "df_cve_first = pd.read_pickle('../datasets/dataset.pkl')\n",
    "cve_nvd = set(df_cve_nvd['id'].unique())\n",
    "cve_first = set(df_cve_first['cve'].unique())"
   ]
  },
  {
   "cell_type": "code",
   "execution_count": 38,
   "id": "aaa95e46-0f14-4376-94ef-e98e88dbe6af",
   "metadata": {},
   "outputs": [
    {
     "name": "stdout",
     "output_type": "stream",
     "text": [
      "#CVEs from NVD:   241103\n",
      "#CVEs from FIRST: 239192\n"
     ]
    }
   ],
   "source": [
    "print(f\"#CVEs from NVD:   {len(cve_nvd)}\")\n",
    "print(f\"#CVEs from FIRST: {len(cve_first)}\")"
   ]
  },
  {
   "cell_type": "code",
   "execution_count": 34,
   "id": "645ab895-8bdb-43ed-8fc2-32fc6e9577b5",
   "metadata": {},
   "outputs": [
    {
     "name": "stdout",
     "output_type": "stream",
     "text": [
      "Missing from FIRST dataset wrt NVD: 1960\n",
      "Missing from NVD dataset wrt FIRST: 49\n"
     ]
    }
   ],
   "source": [
    "missing_first = cve_nvd - cve_first\n",
    "missing_nvd = cve_first - cve_nvd\n",
    "print(f\"Missing from FIRST dataset wrt NVD: {len(missing_first)}\")\n",
    "print(f\"Missing from NVD dataset wrt FIRST: {len(missing_nvd)}\")"
   ]
  },
  {
   "cell_type": "code",
   "execution_count": 35,
   "id": "2d19c911-c30a-4729-b513-3c58a923e1dc",
   "metadata": {},
   "outputs": [
    {
     "name": "stdout",
     "output_type": "stream",
     "text": [
      "Missing in FIRST dataset: ['CVE-2005-2759']\n",
      "Rejected: 1819\n",
      "Received: 140\n",
      "Total: 1959/1960\n"
     ]
    }
   ],
   "source": [
    "count_rejected = 0\n",
    "count_received = 0\n",
    "missing = []\n",
    "for cve in missing_first:\n",
    "    data = df_cve_nvd[df_cve_nvd['id'] == cve]['vulnStatus'].values\n",
    "    if data == 'Rejected':\n",
    "        count_rejected += 1\n",
    "    elif data == 'Received':\n",
    "        count_received += 1\n",
    "    else:\n",
    "        missing.append(cve)\n",
    "print(f\"Missing in FIRST dataset: {missing}\")\n",
    "print(f\"Rejected: {count_rejected}\")\n",
    "print(f\"Received: {count_received}\")\n",
    "print(f\"Total: {count_rejected + count_received}/{len(missing_first)}\")"
   ]
  },
  {
   "cell_type": "code",
   "execution_count": 58,
   "id": "3f062453-935b-49dc-a150-e2ae5f8d2fbb",
   "metadata": {},
   "outputs": [
    {
     "name": "stdout",
     "output_type": "stream",
     "text": [
      "NVD\n",
      "Analyzed: 130652\n",
      "Awaiting Analysis: 2521\n",
      "Modified: 93779\n",
      "Received: 170\n",
      "Rejected: 13970\n",
      "Undergoing Analysis: 11\n",
      "\n",
      "FIRST\n",
      "Analyzed: 130651\n",
      "Awaiting Analysis: 2521\n",
      "Modified: 93779\n",
      "Received: 30\n",
      "Rejected: 12151\n",
      "Undergoing Analysis: 11\n"
     ]
    }
   ],
   "source": [
    "vuln_status = list(df_cve_nvd['vulnStatus'].unique())\n",
    "print('NVD')\n",
    "for status in sorted(vuln_status):\n",
    "    print(f\"{status}: {len(df_cve_nvd[df_cve_nvd['vulnStatus'] == status])}\")\n",
    "print('\\nFIRST')\n",
    "counts = df_cve_nvd[df_cve_nvd['id'].isin(cve_first)]['vulnStatus'].value_counts()\n",
    "for status in sorted(vuln_status):\n",
    "    print(f\"{status}: {counts[status]}\")"
   ]
  },
  {
   "cell_type": "code",
   "execution_count": null,
   "id": "eb65c743-0bdc-4142-a45a-918bb4282c29",
   "metadata": {},
   "outputs": [],
   "source": []
  }
 ],
 "metadata": {
  "kernelspec": {
   "display_name": "Python 3 (ipykernel)",
   "language": "python",
   "name": "python3"
  },
  "language_info": {
   "codemirror_mode": {
    "name": "ipython",
    "version": 3
   },
   "file_extension": ".py",
   "mimetype": "text/x-python",
   "name": "python",
   "nbconvert_exporter": "python",
   "pygments_lexer": "ipython3",
   "version": "3.9.13"
  }
 },
 "nbformat": 4,
 "nbformat_minor": 5
}
