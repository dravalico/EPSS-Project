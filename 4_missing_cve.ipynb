{
 "cells": [
  {
   "cell_type": "code",
   "execution_count": 17,
   "id": "8a41ec45-1727-4a51-994d-279ca909bb98",
   "metadata": {},
   "outputs": [],
   "source": [
    "!pip install -q fastplot"
   ]
  },
  {
   "cell_type": "code",
   "execution_count": 18,
   "id": "a4fd3ca6-37bc-4b5b-abaa-57bfabc89886",
   "metadata": {},
   "outputs": [],
   "source": [
    "import pandas as pd\n",
    "import fastplot\n",
    "%matplotlib inline"
   ]
  },
  {
   "cell_type": "code",
   "execution_count": 3,
   "id": "65d4e64b-3438-434c-8c41-0b1d3a5cf13e",
   "metadata": {},
   "outputs": [],
   "source": [
    "with open('datasets/cve_info.csv', 'r') as f:\n",
    "    df_cve_nvd = pd.read_csv(f)\n",
    "df_cve_nvd['published'] = pd.to_datetime(df_cve_nvd['published'])\n",
    "df_cve_first = pd.read_pickle('datasets/dataset.pkl')\n",
    "cve_nvd = set(df_cve_nvd['id'].unique())\n",
    "cve_first = set(df_cve_first['cve'].unique())"
   ]
  },
  {
   "cell_type": "code",
   "execution_count": 4,
   "id": "aaa95e46-0f14-4376-94ef-e98e88dbe6af",
   "metadata": {},
   "outputs": [
    {
     "name": "stdout",
     "output_type": "stream",
     "text": [
      "#CVEs from NVD  : 241103\n",
      "#CVEs from FIRST: 239192\n"
     ]
    }
   ],
   "source": [
    "print(f\"#CVEs from NVD  : {len(cve_nvd)}\")\n",
    "print(f\"#CVEs from FIRST: {len(cve_first)}\")"
   ]
  },
  {
   "cell_type": "code",
   "execution_count": 5,
   "id": "645ab895-8bdb-43ed-8fc2-32fc6e9577b5",
   "metadata": {},
   "outputs": [
    {
     "name": "stdout",
     "output_type": "stream",
     "text": [
      "Missing CVEs from FIRST dataset wrt NVD: 1960\n",
      "Missing CVEs from NVD dataset wrt FIRST: 49\n"
     ]
    }
   ],
   "source": [
    "missing_first = cve_nvd - cve_first\n",
    "missing_nvd = cve_first - cve_nvd\n",
    "print(f\"Missing CVEs from FIRST dataset wrt NVD: {len(missing_first)}\")\n",
    "print(f\"Missing CVEs from NVD dataset wrt FIRST: {len(missing_nvd)}\")"
   ]
  },
  {
   "cell_type": "code",
   "execution_count": 6,
   "id": "2d19c911-c30a-4729-b513-3c58a923e1dc",
   "metadata": {},
   "outputs": [
    {
     "name": "stdout",
     "output_type": "stream",
     "text": [
      "Missing CVEs in FIRST dataset: ['CVE-2005-2759']\n",
      "Rejected: 1819\n",
      "Received: 140\n",
      "Total: 1959/1960\n"
     ]
    }
   ],
   "source": [
    "count_rejected = 0\n",
    "count_received = 0\n",
    "missing = []\n",
    "for cve in missing_first:\n",
    "    data = df_cve_nvd[df_cve_nvd['id'] == cve]['vulnStatus'].values\n",
    "    if data == 'Rejected':\n",
    "        count_rejected += 1\n",
    "    elif data == 'Received':\n",
    "        count_received += 1\n",
    "    else:\n",
    "        missing.append(cve)\n",
    "print(f\"Missing CVEs in FIRST dataset: {missing}\")\n",
    "print(f\"Rejected: {count_rejected}\")\n",
    "print(f\"Received: {count_received}\")\n",
    "print(f\"Total: {count_rejected + count_received}/{len(missing_first)}\")"
   ]
  },
  {
   "cell_type": "code",
   "execution_count": 27,
   "id": "7094a9a5-44f1-4600-9b2b-907fefe56889",
   "metadata": {},
   "outputs": [
    {
     "name": "stdout",
     "output_type": "stream",
     "text": [
      "Publication year of the missing CVEs in FIRST dataset\n",
      "2005: 1\n",
      "2009: 1\n",
      "2013: 3\n",
      "2014: 3\n",
      "2015: 7\n",
      "2016: 1\n",
      "2017: 2\n",
      "2018: 2\n",
      "2019: 4\n",
      "2020: 3\n",
      "2021: 5\n",
      "2022: 528\n",
      "2023: 1094\n",
      "2024: 306\n"
     ]
    }
   ],
   "source": [
    "print('Publication year of the missing CVEs in FIRST dataset')\n",
    "publish_year_dict = {str(year): 0 for year in range(1999, 2025)}\n",
    "for cve in missing_first:\n",
    "    date_published = str(df_cve_nvd[df_cve_nvd['id'] == cve]['published'].values[0]).split('-')[0]\n",
    "    publish_year_dict[date_published] += 1\n",
    "# data = [(year, count) for year, count in publish_year_dict.items() if count != 0]\n",
    "# fastplot.plot(data, None, mode='bars', xlabel='Publication year', ylabel='#CVEs', xticks_rotate=30, \n",
    "              #figsize=(6, 3), grid=True)\n",
    "for year, count in publish_year_dict.items():\n",
    "    if count != 0:\n",
    "        print(f\"{year}: {count}\")"
   ]
  },
  {
   "cell_type": "code",
   "execution_count": 26,
   "id": "3f062453-935b-49dc-a150-e2ae5f8d2fbb",
   "metadata": {},
   "outputs": [
    {
     "name": "stdout",
     "output_type": "stream",
     "text": [
      "NVD\n",
      "Analyzed                 130652\n",
      "Awaiting Analysis          2521\n",
      "Modified                  93779\n",
      "Received                    170\n",
      "Rejected                  13970\n",
      "Undergoing Analysis          11\n",
      "\n",
      "FIRST\n",
      "Analyzed                 130651\n",
      "Awaiting Analysis          2521\n",
      "Modified                  93779\n",
      "Received                     30\n",
      "Rejected                  12151\n",
      "Undergoing Analysis          11\n",
      "\n",
      "49 CVEs of FIRST not in NVD (probably only submitted)\n"
     ]
    }
   ],
   "source": [
    "vuln_status = list(df_cve_nvd['vulnStatus'].unique())\n",
    "print('NVD')\n",
    "for status in sorted(vuln_status):\n",
    "    count = len(df_cve_nvd[df_cve_nvd['vulnStatus'] == status])\n",
    "    print(f\"{status.ljust(20)} {str(count).rjust(10)}\")\n",
    "print('\\nFIRST')\n",
    "df_first_in_nvd = df_cve_nvd[df_cve_nvd['id'].isin(cve_first)]\n",
    "vuln_first_count = df_first_in_nvd['vulnStatus'].value_counts()\n",
    "for status in sorted(vuln_status):\n",
    "    print(f\"{status.ljust(20)} {str(vuln_first_count[status]).rjust(10)}\")\n",
    "print(f\"\\n{len(cve_first) - len(df_first_in_nvd['id'].unique())} CVEs of FIRST not in NVD (probably only submitted)\")"
   ]
  },
  {
   "cell_type": "code",
   "execution_count": 53,
   "id": "fe4ecc2c-644c-42c8-bba5-454041e6d94d",
   "metadata": {},
   "outputs": [
    {
     "name": "stdout",
     "output_type": "stream",
     "text": [
      "Distribution of CVEs added on 08/02/2024 in FIRST dataset\n",
      "Analyzed                    712\n",
      "Awaiting Analysis            25\n",
      "Modified                     94\n",
      "Received                      2\n",
      "Rejected                  11152\n",
      "Undergoing Analysis           0\n"
     ]
    }
   ],
   "source": [
    "cve_first_before_increment = set(df_cve_first[df_cve_first['date'] == '2024-02-07']['cve'].unique())\n",
    "cve_first_on_increment = set(df_cve_first[df_cve_first['date'] == '2024-02-08']['cve'].unique())\n",
    "cve_first_added = list(cve_first_on_increment - cve_first_before_increment)\n",
    "print('Distribution of CVEs added on 08/02/2024 in FIRST dataset')\n",
    "for status in sorted(vuln_status):\n",
    "    count = df_cve_nvd[df_cve_nvd['id'].isin(cve_first_added) & (df_cve_nvd['vulnStatus'] == status)].shape[0]\n",
    "    print(f\"{status.ljust(20)} {str(count).rjust(10)}\")"
   ]
  },
  {
   "cell_type": "code",
   "execution_count": null,
   "id": "6a27c1e0-2aa8-492f-973c-8c922f6d8173",
   "metadata": {},
   "outputs": [],
   "source": []
  }
 ],
 "metadata": {
  "kernelspec": {
   "display_name": "Python 3 (ipykernel)",
   "language": "python",
   "name": "python3"
  },
  "language_info": {
   "codemirror_mode": {
    "name": "ipython",
    "version": 3
   },
   "file_extension": ".py",
   "mimetype": "text/x-python",
   "name": "python",
   "nbconvert_exporter": "python",
   "pygments_lexer": "ipython3",
   "version": "3.9.13"
  }
 },
 "nbformat": 4,
 "nbformat_minor": 5
}
